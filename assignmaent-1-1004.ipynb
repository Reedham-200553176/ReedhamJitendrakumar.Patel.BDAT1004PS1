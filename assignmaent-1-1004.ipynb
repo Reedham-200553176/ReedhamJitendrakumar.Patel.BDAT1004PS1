{
 "cells": [
  {
   "attachments": {},
   "cell_type": "markdown",
   "metadata": {},
   "source": [
    "<h2>Question 1</h2>"
   ]
  },
  {
   "attachments": {},
   "cell_type": "markdown",
   "metadata": {},
   "source": [
    "<h4>What data type is each of the following (evaluate where necessary)?<h4>"
   ]
  },
  {
   "cell_type": "code",
   "execution_count": 58,
   "metadata": {},
   "outputs": [
    {
     "name": "stdout",
     "output_type": "stream",
     "text": [
      "Type of 5:  <class 'int'>\n",
      "\n",
      "Type of 5.0:  <class 'float'>\n",
      "\n",
      "Type of 5 > 1:  <class 'bool'>\n",
      "\n",
      "Type of '5':  <class 'str'>\n",
      "\n",
      "Type of 5 * 2:  <class 'int'>\n",
      "\n",
      "Type of '5' * 2:  <class 'str'>\n",
      "\n",
      "Type of '5' + '2':  <class 'str'>\n",
      "\n",
      "Type of 5 / 2:  <class 'float'>\n",
      "\n",
      "Type of 5 % 2:  <class 'int'>\n",
      "\n",
      "Type of {5,2,1}:  <class 'set'>\n",
      "\n",
      "Type of 5 == 3:  <class 'bool'>\n",
      "\n",
      "Type of  3.141592653589793 : <class 'float'>\n"
     ]
    }
   ],
   "source": [
    "print(\"Type of 5: \", type(5))\n",
    "print(\"\\nType of 5.0: \", type(5.0))\n",
    "print(\"\\nType of 5 > 1: \", type(5 > 1))\n",
    "print(\"\\nType of '5': \", type('5'))\n",
    "print(\"\\nType of 5 * 2: \", type(5 * 2))\n",
    "print(\"\\nType of '5' * 2: \", type('5' * 2))\n",
    "print(\"\\nType of '5' + '2': \", type('5' + '2'))\n",
    "print(\"\\nType of 5 / 2: \", type(5 / 2))\n",
    "print(\"\\nType of 5 % 2: \", type(5 % 2))\n",
    "print(\"\\nType of {5,2,1}: \", type({5,2,1}))\n",
    "print(\"\\nType of 5 == 3: \", type(5 == 3))\n",
    "import math\n",
    "print(\"\\nType of \",math.pi, \":\", type(math.pi))"
   ]
  },
  {
   "attachments": {},
   "cell_type": "markdown",
   "metadata": {},
   "source": [
    "<h2>Question 2</h2>"
   ]
  },
  {
   "attachments": {},
   "cell_type": "markdown",
   "metadata": {},
   "source": [
    "<h4>a. How many letters are there in 'Supercalifragilisticexpialidocious'?</h4>"
   ]
  },
  {
   "cell_type": "code",
   "execution_count": 59,
   "metadata": {},
   "outputs": [
    {
     "name": "stdout",
     "output_type": "stream",
     "text": [
      "Total letters in 'Supercalifragilisticexpialidocious':  34\n"
     ]
    }
   ],
   "source": [
    "str1 = 'Supercalifragilisticexpialidocious'\n",
    "letters = 0\n",
    "letters = sum(1 for c in str1 if str1.isalpha())\n",
    "print(\"Total letters in 'Supercalifragilisticexpialidocious': \",letters)"
   ]
  },
  {
   "attachments": {},
   "cell_type": "markdown",
   "metadata": {},
   "source": [
    "<h4>b. Does 'Supercalifragilisticexpialidocious' contain 'ice' as a substring?<h4>"
   ]
  },
  {
   "cell_type": "code",
   "execution_count": 60,
   "metadata": {},
   "outputs": [
    {
     "name": "stdout",
     "output_type": "stream",
     "text": [
      "True\n"
     ]
    }
   ],
   "source": [
    "ice = bool(str1.find('ice'))\n",
    "print(ice)"
   ]
  },
  {
   "attachments": {},
   "cell_type": "markdown",
   "metadata": {},
   "source": [
    "<h4>c. Which of the following words is the longest: \n",
    "Supercalifragilisticexpialidocious, Honorificabilitudinitatibus, or \n",
    "Bababadalgharaghtakamminarronnkonn?</h4>"
   ]
  },
  {
   "cell_type": "code",
   "execution_count": 61,
   "metadata": {},
   "outputs": [
    {
     "name": "stdout",
     "output_type": "stream",
     "text": [
      "Longest word:  Supercalifragilisticexpialidocious \n",
      "length =  34\n"
     ]
    }
   ],
   "source": [
    "longest = max('Supercalifragilisticexpialidocious', 'Honorificabilitudinitatibus', 'Bababadalgharaghtakamminarronnkonn')\n",
    "print(\"Longest word: \",longest, \"\\nlength = \",len(longest))"
   ]
  },
  {
   "attachments": {},
   "cell_type": "markdown",
   "metadata": {},
   "source": [
    "<h4>d. Which composer comes first in the dictionary: 'Berlioz', 'Borodin', 'Brian', \n",
    "'Bartok', 'Bellini', 'Buxtehude', 'Bernstein'. Which one comes last?</h4>"
   ]
  },
  {
   "cell_type": "code",
   "execution_count": 62,
   "metadata": {},
   "outputs": [
    {
     "name": "stdout",
     "output_type": "stream",
     "text": [
      "First in the Dictionary:  Bartok \n",
      "Last in the Dictionary:  Buxtehude\n"
     ]
    }
   ],
   "source": [
    "Composer = ['Berlioz', 'Borodin', 'Brian', 'Bartok', 'Bellini', 'Buxtehude', 'Bernstein']\n",
    "Composer.sort()\n",
    "print(\"First in the Dictionary: \", Composer[0], \"\\nLast in the Dictionary: \",Composer[-1])"
   ]
  },
  {
   "attachments": {},
   "cell_type": "markdown",
   "metadata": {},
   "source": [
    "<h2>Question 3</h2>"
   ]
  },
  {
   "attachments": {},
   "cell_type": "markdown",
   "metadata": {},
   "source": [
    "<h4>Implement function triangleArea(a,b,c) that takes as input the lengths of the 3\n",
    "sides of a triangle and returns the area of the triangle. By Heron's formula, the area \n",
    "of a triangle with side lengths a, b, and c is\n",
    "√s(s - a)(s -b)(s -c)\n",
    ", where \n",
    "s = (a+b+c)/2. </h4>"
   ]
  },
  {
   "cell_type": "code",
   "execution_count": 63,
   "metadata": {},
   "outputs": [],
   "source": [
    "import math\n",
    "def triangleArea(a,b,c):\n",
    "    s = (a + b + c) / 2\n",
    "    area = math.sqrt(s * (s - a) * (s - b) * (s - c))\n",
    "    return  area"
   ]
  },
  {
   "cell_type": "code",
   "execution_count": 64,
   "metadata": {},
   "outputs": [
    {
     "name": "stdout",
     "output_type": "stream",
     "text": [
      "Area of Triangle (2, 2, 2) = 1.7320508075688772\n"
     ]
    }
   ],
   "source": [
    "a,b,c = int(input('a:')),int(input('b:')),int(input('c:'))\n",
    "print(f\"Area of Triangle {a,b,c} = {triangleArea(a,b,c)}\")"
   ]
  },
  {
   "attachments": {},
   "cell_type": "markdown",
   "metadata": {},
   "source": [
    "<h2>Queston 4</h2>"
   ]
  },
  {
   "attachments": {},
   "cell_type": "markdown",
   "metadata": {},
   "source": [
    "<h4>Write a program in python to separate odd and even integers in separate arrays. Go\n",
    "to the editor</h4>"
   ]
  },
  {
   "cell_type": "code",
   "execution_count": 65,
   "metadata": {},
   "outputs": [
    {
     "name": "stdout",
     "output_type": "stream",
     "text": [
      "The Even elements are:\n",
      "[24, 64, 66]\n",
      "The Odd elements are:\n",
      "[15, 23]\n"
     ]
    }
   ],
   "source": [
    "def odd_even(elements):\n",
    "    # Create empty lists for odd and even numbers\n",
    "    odd_list = []\n",
    "    even_list = []\n",
    "\n",
    "    # Iterate through each element in the input list\n",
    "    for i in elements:\n",
    "        # Check if the element is odd\n",
    "        if i % 2:\n",
    "            odd_list.append(i)  # Add odd element to the odd_list\n",
    "        else:\n",
    "            even_list.append(i)  # Add even element to the even_list\n",
    "\n",
    "    # Return the even_list and odd_list\n",
    "    return even_list, odd_list\n",
    "\n",
    "\n",
    "count = int(input(\"Input the number of elements to be stored in the array: \"))\n",
    "elements = []\n",
    "\n",
    "# Collect input elements from the user\n",
    "for i in range(count):\n",
    "    elements.append(int(input(f\"Element {i}: \")))\n",
    "\n",
    "# Call the odd_even function to separate odd and even elements\n",
    "even_nums, odd_nums = odd_even(elements)\n",
    "\n",
    "# Print the even and odd elements\n",
    "print(f\"The Even elements are:\\n{even_nums}\")\n",
    "print(f\"The Odd elements are:\\n{odd_nums}\")\n",
    "\n",
    "\n"
   ]
  },
  {
   "attachments": {},
   "cell_type": "markdown",
   "metadata": {},
   "source": [
    "<h2>Question 5</h2>"
   ]
  },
  {
   "attachments": {},
   "cell_type": "markdown",
   "metadata": {},
   "source": [
    "<h4>a. Write a function inside(x,y,x1,y1,x2,y2) that returns True or False depending on whether the point (x,y) lies in the rectangle with lower left corner (x1,y1) and upper right corner (x2,y2).</h4>"
   ]
  },
  {
   "cell_type": "code",
   "execution_count": 66,
   "metadata": {},
   "outputs": [
    {
     "name": "stdout",
     "output_type": "stream",
     "text": [
      "True\n"
     ]
    }
   ],
   "source": [
    "def inside(x, y, x1, y1, x2, y2):\n",
    "    if x >= x1 and x <= x2 and y >= y1 and y <= y2:\n",
    "        return True\n",
    "    else:\n",
    "        return False\n",
    "\n",
    "x,y,x1,y1,x2,y2 = input('x: '),input('y: '),input('x1: '),input('y1: '),input('x2: '),input('y2: ')\n",
    "print(inside(x,y,x1,y1,x2,y2)) \n"
   ]
  },
  {
   "attachments": {},
   "cell_type": "markdown",
   "metadata": {},
   "source": [
    "<h4>b. Use function inside() from part a. to write an expression that tests whether the point (1,1) lies in both of the following rectangles: one with lower left corner (0.3, 0.5) and upper right corner (1.1, 0.7) and the other with lower left corner (0.5, 0.2) and upper right corner (1.1, 2).</h4>"
   ]
  },
  {
   "cell_type": "code",
   "execution_count": 67,
   "metadata": {},
   "outputs": [
    {
     "name": "stdout",
     "output_type": "stream",
     "text": [
      "Point (1, 1) does not lie in both rectangles.\n"
     ]
    }
   ],
   "source": [
    "rec1 = (0.3, 0.5, 1.1, 0.7)\n",
    "rec2 = (0.5, 0.2, 1.1, 2)\n",
    "\n",
    "is_in_rec1 = inside(1, 1, rec1[0], rec1[1], rec1[2], rec1[3])\n",
    "is_in_rec2 = inside(1, 1, rec2[0], rec2[1], rec2[2], rec2[3])\n",
    "\n",
    "if is_in_rec1 and is_in_rec2:\n",
    "    print(\"Point (1, 1) lies in both rectangles.\")\n",
    "else:\n",
    "    print(\"Point (1, 1) does not lie in both rectangles.\")"
   ]
  },
  {
   "attachments": {},
   "cell_type": "markdown",
   "metadata": {},
   "source": [
    "<h2>Question 6</h2>"
   ]
  },
  {
   "attachments": {},
   "cell_type": "markdown",
   "metadata": {},
   "source": [
    "Write a function pig() that takes a word (i.e., a string) as input and returns its pig-Latin form. Your function should still work if the input word contains upper case characters. Your output should always be lower case however."
   ]
  },
  {
   "cell_type": "code",
   "execution_count": 68,
   "metadata": {},
   "outputs": [
    {
     "name": "stdout",
     "output_type": "stream",
     "text": [
      "appleway\n"
     ]
    }
   ],
   "source": [
    "def pig(word):\n",
    "    vowels = ['a', 'e', 'i', 'o', 'u']\n",
    "    word = word.lower()  # Convert the word to lowercase\n",
    "    \n",
    "    if word[0] in vowels:  # Word starts with a vowel\n",
    "        pig_word = word + 'way'\n",
    "    else:  # Word starts with a consonant\n",
    "        pig_word = word[1:] + word[0] + 'ay'\n",
    "    \n",
    "    return pig_word\n",
    "\n",
    "print(pig(input('Enter word: ')))\n",
    "\n"
   ]
  },
  {
   "attachments": {},
   "cell_type": "markdown",
   "metadata": {},
   "source": [
    "<h2>Question 7</h2>"
   ]
  },
  {
   "attachments": {},
   "cell_type": "markdown",
   "metadata": {},
   "source": [
    "<h4>File bloodtype1.txt records blood-types of patients (A, B, AB, O or OO) at a clinic. Write a function bldcount() that reads the file with name name and reports (i.e., prints) how many patients there are in each bloodtype.</h4>"
   ]
  },
  {
   "cell_type": "code",
   "execution_count": 69,
   "metadata": {},
   "outputs": [
    {
     "name": "stdout",
     "output_type": "stream",
     "text": [
      "There are 15 patients of A\n",
      "There are 1 patients of B\n",
      "There are 13 patients of AB\n",
      "There are 15 patients of O\n",
      "There are 0 patients of OO\n"
     ]
    }
   ],
   "source": [
    "def bldcount(filename):\n",
    "    blood_count = {\n",
    "        'A': 0,\n",
    "        'B': 0,\n",
    "        'AB': 0,\n",
    "        'O': 0,\n",
    "        'OO': 0\n",
    "    }\n",
    "    \n",
    "    with open(filename, 'r') as file:\n",
    "        for line in file:\n",
    "            blood_type = line.split()\n",
    "            for i in blood_type:\n",
    "                if i in blood_count:\n",
    "                    blood_count[i] += 1\n",
    "    \n",
    "    for blood_type, count in blood_count.items():\n",
    "        print(f\"There are {count} patients of {blood_type}\")\n",
    "\n",
    "bldcount('bloodtype1.txt')\n",
    "\n",
    "\n",
    "\n",
    "\n",
    "\n"
   ]
  },
  {
   "attachments": {},
   "cell_type": "markdown",
   "metadata": {},
   "source": [
    "<h2>Question 8</h2>"
   ]
  },
  {
   "attachments": {},
   "cell_type": "markdown",
   "metadata": {},
   "source": [
    "<h4>Write a function curconv() that takes as input:\n",
    "1. a currency represented using a string (e.g., 'JPY' for the Japanese Yen or 'EUR' for the Euro)\n",
    "2. an amount\n",
    "and then converts and returns the amount in US dollars.</h4>"
   ]
  },
  {
   "cell_type": "code",
   "execution_count": 70,
   "metadata": {},
   "outputs": [
    {
     "name": "stdout",
     "output_type": "stream",
     "text": [
      "122.96544\n",
      "1.241401\n"
     ]
    }
   ],
   "source": [
    "def curconv(currency, amount):\n",
    "    with open('currencies.txt', 'r') as file:\n",
    "        for line in file:\n",
    "            parts = line.split()\n",
    "            if parts[0] == currency:\n",
    "                conversion_rate = float(parts[1])\n",
    "                usd_amount = amount * conversion_rate\n",
    "                return usd_amount\n",
    "\n",
    "    return None\n",
    "\n",
    "print(curconv('EUR', 100))  # 122.96544\n",
    "print(curconv('JPY', 100))  # 1.241401\n"
   ]
  },
  {
   "attachments": {},
   "cell_type": "markdown",
   "metadata": {},
   "source": [
    "<h2>Question 9</h2>"
   ]
  },
  {
   "attachments": {},
   "cell_type": "markdown",
   "metadata": {},
   "source": [
    "<h4>Each of the following will cause an exception (an error). Identify what type of exception each will cause.</h4>"
   ]
  },
  {
   "attachments": {},
   "cell_type": "markdown",
   "metadata": {},
   "source": [
    "<h4>Trying to add incompatible variables, as in\n",
    "adding 6 + ‘a’</h4>"
   ]
  },
  {
   "cell_type": "code",
   "execution_count": 71,
   "metadata": {},
   "outputs": [
    {
     "ename": "TypeError",
     "evalue": "unsupported operand type(s) for +: 'int' and 'str'",
     "output_type": "error",
     "traceback": [
      "\u001b[1;31m---------------------------------------------------------------------------\u001b[0m",
      "\u001b[1;31mTypeError\u001b[0m                                 Traceback (most recent call last)",
      "Cell \u001b[1;32mIn[71], line 1\u001b[0m\n\u001b[1;32m----> 1\u001b[0m \u001b[39m6\u001b[39;49m \u001b[39m+\u001b[39;49m \u001b[39m'\u001b[39;49m\u001b[39ma\u001b[39;49m\u001b[39m'\u001b[39;49m \u001b[39m#TypeError: unsupported operand type(s) for +: 'int' and 'str'\u001b[39;00m\n",
      "\u001b[1;31mTypeError\u001b[0m: unsupported operand type(s) for +: 'int' and 'str'"
     ]
    }
   ],
   "source": [
    "6 + 'a' #TypeError: unsupported operand type(s) for +: 'int' and 'str'"
   ]
  },
  {
   "attachments": {},
   "cell_type": "markdown",
   "metadata": {},
   "source": [
    "<h4>Referring to the 12\n",
    "th item of a list that has only 10\n",
    "items</h4>"
   ]
  },
  {
   "cell_type": "code",
   "execution_count": null,
   "metadata": {},
   "outputs": [
    {
     "ename": "IndexError",
     "evalue": "range object index out of range",
     "output_type": "error",
     "traceback": [
      "\u001b[1;31m---------------------------------------------------------------------------\u001b[0m",
      "\u001b[1;31mIndexError\u001b[0m                                Traceback (most recent call last)",
      "Cell \u001b[1;32mIn[51], line 2\u001b[0m\n\u001b[0;32m      1\u001b[0m nums \u001b[39m=\u001b[39m \u001b[39mrange\u001b[39m(\u001b[39m10\u001b[39m)\n\u001b[1;32m----> 2\u001b[0m \u001b[39mprint\u001b[39m(nums[\u001b[39m12\u001b[39;49m])\n",
      "\u001b[1;31mIndexError\u001b[0m: range object index out of range"
     ]
    }
   ],
   "source": [
    "nums = range(10)\n",
    "print(nums[12]) #IndexError: range object index out of range"
   ]
  },
  {
   "attachments": {},
   "cell_type": "markdown",
   "metadata": {},
   "source": [
    "<h4>Using a value that is out of range for a function’s\n",
    "input, such as calling math.sqrt( 1.0)</h4>"
   ]
  },
  {
   "cell_type": "code",
   "execution_count": null,
   "metadata": {},
   "outputs": [
    {
     "ename": "ValueError",
     "evalue": "math domain error",
     "output_type": "error",
     "traceback": [
      "\u001b[1;31m---------------------------------------------------------------------------\u001b[0m",
      "\u001b[1;31mValueError\u001b[0m                                Traceback (most recent call last)",
      "Cell \u001b[1;32mIn[53], line 2\u001b[0m\n\u001b[0;32m      1\u001b[0m \u001b[39mimport\u001b[39;00m \u001b[39mmath\u001b[39;00m\n\u001b[1;32m----> 2\u001b[0m math\u001b[39m.\u001b[39;49msqrt( \u001b[39m-\u001b[39;49m\u001b[39m1.0\u001b[39;49m)\n",
      "\u001b[1;31mValueError\u001b[0m: math domain error"
     ]
    }
   ],
   "source": [
    "import math\n",
    "math.sqrt( -1.0) #ValueError: math domain error"
   ]
  },
  {
   "attachments": {},
   "cell_type": "markdown",
   "metadata": {},
   "source": [
    "<h4>Using an undeclared variable, such as\n",
    "print(x)\n",
    "when x has not been defined</h4>"
   ]
  },
  {
   "cell_type": "code",
   "execution_count": null,
   "metadata": {},
   "outputs": [
    {
     "ename": "NameError",
     "evalue": "name 'z' is not defined",
     "output_type": "error",
     "traceback": [
      "\u001b[1;31m---------------------------------------------------------------------------\u001b[0m",
      "\u001b[1;31mNameError\u001b[0m                                 Traceback (most recent call last)",
      "Cell \u001b[1;32mIn[55], line 1\u001b[0m\n\u001b[1;32m----> 1\u001b[0m \u001b[39mprint\u001b[39m(z)\n",
      "\u001b[1;31mNameError\u001b[0m: name 'z' is not defined"
     ]
    }
   ],
   "source": [
    "print(z) #NameError: name 'z' is not defined"
   ]
  },
  {
   "attachments": {},
   "cell_type": "markdown",
   "metadata": {},
   "source": [
    "<h4>Trying to open a file that does not exist, such as\n",
    "mistyping the file name or looking in the wrong\n",
    "directory.</h4>"
   ]
  },
  {
   "cell_type": "code",
   "execution_count": null,
   "metadata": {},
   "outputs": [
    {
     "ename": "FileNotFoundError",
     "evalue": "[Errno 2] No such file or directory: 'currenciess.txt'",
     "output_type": "error",
     "traceback": [
      "\u001b[1;31m---------------------------------------------------------------------------\u001b[0m",
      "\u001b[1;31mFileNotFoundError\u001b[0m                         Traceback (most recent call last)",
      "Cell \u001b[1;32mIn[56], line 1\u001b[0m\n\u001b[1;32m----> 1\u001b[0m \u001b[39mwith\u001b[39;00m \u001b[39mopen\u001b[39;49m(\u001b[39m'\u001b[39;49m\u001b[39mcurrenciess.txt\u001b[39;49m\u001b[39m'\u001b[39;49m, \u001b[39m'\u001b[39;49m\u001b[39mr\u001b[39;49m\u001b[39m'\u001b[39;49m) \u001b[39mas\u001b[39;00m file:\n\u001b[0;32m      2\u001b[0m         \u001b[39mfor\u001b[39;00m line \u001b[39min\u001b[39;00m file:\n\u001b[0;32m      3\u001b[0m             parts \u001b[39m=\u001b[39m line\u001b[39m.\u001b[39msplit()\n",
      "File \u001b[1;32m~\\AppData\\Roaming\\Python\\Python311\\site-packages\\IPython\\core\\interactiveshell.py:284\u001b[0m, in \u001b[0;36m_modified_open\u001b[1;34m(file, *args, **kwargs)\u001b[0m\n\u001b[0;32m    277\u001b[0m \u001b[39mif\u001b[39;00m file \u001b[39min\u001b[39;00m {\u001b[39m0\u001b[39m, \u001b[39m1\u001b[39m, \u001b[39m2\u001b[39m}:\n\u001b[0;32m    278\u001b[0m     \u001b[39mraise\u001b[39;00m \u001b[39mValueError\u001b[39;00m(\n\u001b[0;32m    279\u001b[0m         \u001b[39mf\u001b[39m\u001b[39m\"\u001b[39m\u001b[39mIPython won\u001b[39m\u001b[39m'\u001b[39m\u001b[39mt let you open fd=\u001b[39m\u001b[39m{\u001b[39;00mfile\u001b[39m}\u001b[39;00m\u001b[39m by default \u001b[39m\u001b[39m\"\u001b[39m\n\u001b[0;32m    280\u001b[0m         \u001b[39m\"\u001b[39m\u001b[39mas it is likely to crash IPython. If you know what you are doing, \u001b[39m\u001b[39m\"\u001b[39m\n\u001b[0;32m    281\u001b[0m         \u001b[39m\"\u001b[39m\u001b[39myou can use builtins\u001b[39m\u001b[39m'\u001b[39m\u001b[39m open.\u001b[39m\u001b[39m\"\u001b[39m\n\u001b[0;32m    282\u001b[0m     )\n\u001b[1;32m--> 284\u001b[0m \u001b[39mreturn\u001b[39;00m io_open(file, \u001b[39m*\u001b[39;49margs, \u001b[39m*\u001b[39;49m\u001b[39m*\u001b[39;49mkwargs)\n",
      "\u001b[1;31mFileNotFoundError\u001b[0m: [Errno 2] No such file or directory: 'currenciess.txt'"
     ]
    }
   ],
   "source": [
    "with open('currenciess.txt', 'r') as file: #FileNotFoundError: [Errno 2] No such file or directory: 'currenciess.txt'\n",
    "        for line in file:\n",
    "            parts = line.split()"
   ]
  },
  {
   "attachments": {},
   "cell_type": "markdown",
   "metadata": {},
   "source": [
    "<h2>Question 10</h2>"
   ]
  },
  {
   "attachments": {},
   "cell_type": "markdown",
   "metadata": {},
   "source": [
    "<h4>Assume that the string letters is already defined as 'abcdefghijklmnopqrstuvwxyz'. Write a function called frequencies() that takes a string as its only parameter, and returns a list of integers, showing the number of times each character appears in the text. Your function may ignore any characters that are not in letters.</h4>"
   ]
  },
  {
   "cell_type": "code",
   "execution_count": null,
   "metadata": {},
   "outputs": [
    {
     "name": "stdout",
     "output_type": "stream",
     "text": [
      "[1, 1, 1, 3, 5, 1, 1, 2, 1, 0, 1, 0, 1, 2, 4, 0, 1, 2, 0, 3, 1, 0, 1, 1, 0, 0]\n",
      "[1, 0, 0, 0, 1, 0, 0, 0, 0, 0, 0, 1, 0, 0, 0, 2, 0, 0, 0, 0, 0, 0, 0, 0, 0, 0]\n"
     ]
    }
   ],
   "source": [
    "def frequencies(text):\n",
    "    letters = 'abcdefghijklmnopqrstuvwxyz'\n",
    "    text = text.lower()  # Convert the text to lowercase\n",
    "    \n",
    "    frequency_list = [0] * len(letters)  # Initialize a list of zeros with the length of letters\n",
    "    \n",
    "    for char in text:\n",
    "        if char in letters:\n",
    "            index = letters.index(char)  # Get the index of the character in letters\n",
    "            frequency_list[index] += 1  # Increment the count at the corresponding index\n",
    "    \n",
    "    return frequency_list\n",
    "\n",
    "print(frequencies('The quick red fox got bored and went home.'))\n",
    "print(frequencies('apple'))\n"
   ]
  }
 ],
 "metadata": {
  "kernelspec": {
   "display_name": "Python 3",
   "language": "python",
   "name": "python3"
  },
  "language_info": {
   "codemirror_mode": {
    "name": "ipython",
    "version": 3
   },
   "file_extension": ".py",
   "mimetype": "text/x-python",
   "name": "python",
   "nbconvert_exporter": "python",
   "pygments_lexer": "ipython3",
   "version": "3.11.3"
  },
  "orig_nbformat": 4
 },
 "nbformat": 4,
 "nbformat_minor": 2
}
